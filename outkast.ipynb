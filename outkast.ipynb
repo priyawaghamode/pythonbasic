{
 "cells": [
  {
   "cell_type": "code",
   "execution_count": 1,
   "metadata": {},
   "outputs": [
    {
     "name": "stdout",
     "output_type": "stream",
     "text": [
      "Requirement already satisfied: outkast in d:\\users\\hp\\anaconda3\\lib\\site-packages (0.1.0)\n",
      "Requirement already satisfied: pandas>=0.19.2 in d:\\users\\hp\\anaconda3\\lib\\site-packages (from outkast) (0.25.1)\n",
      "Requirement already satisfied: python-dateutil>=2.6.1 in d:\\users\\hp\\anaconda3\\lib\\site-packages (from pandas>=0.19.2->outkast) (2.8.0)\n",
      "Requirement already satisfied: numpy>=1.13.3 in d:\\users\\hp\\anaconda3\\lib\\site-packages (from pandas>=0.19.2->outkast) (1.16.5)\n",
      "Requirement already satisfied: pytz>=2017.2 in d:\\users\\hp\\anaconda3\\lib\\site-packages (from pandas>=0.19.2->outkast) (2019.3)\n",
      "Requirement already satisfied: six>=1.5 in d:\\users\\hp\\anaconda3\\lib\\site-packages (from python-dateutil>=2.6.1->pandas>=0.19.2->outkast) (1.12.0)\n",
      "Note: you may need to restart the kernel to use updated packages.\n"
     ]
    }
   ],
   "source": [
    "pip install outkast"
   ]
  },
  {
   "cell_type": "code",
   "execution_count": 1,
   "metadata": {},
   "outputs": [
    {
     "data": {
      "text/html": [
       "<div>\n",
       "<style scoped>\n",
       "    .dataframe tbody tr th:only-of-type {\n",
       "        vertical-align: middle;\n",
       "    }\n",
       "\n",
       "    .dataframe tbody tr th {\n",
       "        vertical-align: top;\n",
       "    }\n",
       "\n",
       "    .dataframe thead th {\n",
       "        text-align: right;\n",
       "    }\n",
       "</style>\n",
       "<table border=\"1\" class=\"dataframe\">\n",
       "  <thead>\n",
       "    <tr style=\"text-align: right;\">\n",
       "      <th></th>\n",
       "      <th>name</th>\n",
       "      <th>n_sc</th>\n",
       "      <th>n_st</th>\n",
       "      <th>n_other</th>\n",
       "      <th>prop_sc</th>\n",
       "      <th>prop_st</th>\n",
       "      <th>prop_other</th>\n",
       "    </tr>\n",
       "  </thead>\n",
       "  <tbody>\n",
       "    <tr>\n",
       "      <td>0</td>\n",
       "      <td>patel</td>\n",
       "      <td>17043</td>\n",
       "      <td>336909</td>\n",
       "      <td>1894248</td>\n",
       "      <td>0.007581</td>\n",
       "      <td>0.149857</td>\n",
       "      <td>0.842562</td>\n",
       "    </tr>\n",
       "    <tr>\n",
       "      <td>1</td>\n",
       "      <td>kohli</td>\n",
       "      <td>468</td>\n",
       "      <td>57</td>\n",
       "      <td>552</td>\n",
       "      <td>0.434540</td>\n",
       "      <td>0.052925</td>\n",
       "      <td>0.512535</td>\n",
       "    </tr>\n",
       "    <tr>\n",
       "      <td>2</td>\n",
       "      <td>lal</td>\n",
       "      <td>2111632</td>\n",
       "      <td>725713</td>\n",
       "      <td>3943494</td>\n",
       "      <td>0.311412</td>\n",
       "      <td>0.107024</td>\n",
       "      <td>0.581564</td>\n",
       "    </tr>\n",
       "    <tr>\n",
       "      <td>3</td>\n",
       "      <td>agarwal</td>\n",
       "      <td>117</td>\n",
       "      <td>36</td>\n",
       "      <td>13125</td>\n",
       "      <td>0.008812</td>\n",
       "      <td>0.002711</td>\n",
       "      <td>0.988477</td>\n",
       "    </tr>\n",
       "  </tbody>\n",
       "</table>\n",
       "</div>"
      ],
      "text/plain": [
       "      name     n_sc    n_st  n_other   prop_sc   prop_st  prop_other\n",
       "0    patel    17043  336909  1894248  0.007581  0.149857    0.842562\n",
       "1    kohli      468      57      552  0.434540  0.052925    0.512535\n",
       "2      lal  2111632  725713  3943494  0.311412  0.107024    0.581564\n",
       "3  agarwal      117      36    13125  0.008812  0.002711    0.988477"
      ]
     },
     "execution_count": 1,
     "metadata": {},
     "output_type": "execute_result"
    }
   ],
   "source": [
    "import pandas as pd\n",
    "from outkast import secc_caste\n",
    "names = [{'name':'patel'},\n",
    "         {'name':'kohli'},\n",
    "         {'name':'lal'},\n",
    "         {'name':'agarwal'}]\n",
    "df = pd.DataFrame(names)\n",
    "\n",
    "secc_caste(df, 'name')"
   ]
  },
  {
   "cell_type": "code",
   "execution_count": 5,
   "metadata": {},
   "outputs": [
    {
     "data": {
      "text/html": [
       "<div>\n",
       "<style scoped>\n",
       "    .dataframe tbody tr th:only-of-type {\n",
       "        vertical-align: middle;\n",
       "    }\n",
       "\n",
       "    .dataframe tbody tr th {\n",
       "        vertical-align: top;\n",
       "    }\n",
       "\n",
       "    .dataframe thead th {\n",
       "        text-align: right;\n",
       "    }\n",
       "</style>\n",
       "<table border=\"1\" class=\"dataframe\">\n",
       "  <thead>\n",
       "    <tr style=\"text-align: right;\">\n",
       "      <th></th>\n",
       "      <th>name</th>\n",
       "      <th>n_sc</th>\n",
       "      <th>n_st</th>\n",
       "      <th>n_other</th>\n",
       "      <th>prop_sc</th>\n",
       "      <th>prop_st</th>\n",
       "      <th>prop_other</th>\n",
       "    </tr>\n",
       "  </thead>\n",
       "  <tbody>\n",
       "    <tr>\n",
       "      <td>0</td>\n",
       "      <td>patel</td>\n",
       "      <td>17043</td>\n",
       "      <td>336909</td>\n",
       "      <td>1894248</td>\n",
       "      <td>0.007581</td>\n",
       "      <td>0.149857</td>\n",
       "      <td>0.842562</td>\n",
       "    </tr>\n",
       "    <tr>\n",
       "      <td>1</td>\n",
       "      <td>kohli</td>\n",
       "      <td>468</td>\n",
       "      <td>57</td>\n",
       "      <td>552</td>\n",
       "      <td>0.434540</td>\n",
       "      <td>0.052925</td>\n",
       "      <td>0.512535</td>\n",
       "    </tr>\n",
       "    <tr>\n",
       "      <td>2</td>\n",
       "      <td>lal</td>\n",
       "      <td>2111632</td>\n",
       "      <td>725713</td>\n",
       "      <td>3943494</td>\n",
       "      <td>0.311412</td>\n",
       "      <td>0.107024</td>\n",
       "      <td>0.581564</td>\n",
       "    </tr>\n",
       "    <tr>\n",
       "      <td>3</td>\n",
       "      <td>agarwal</td>\n",
       "      <td>117</td>\n",
       "      <td>36</td>\n",
       "      <td>13125</td>\n",
       "      <td>0.008812</td>\n",
       "      <td>0.002711</td>\n",
       "      <td>0.988477</td>\n",
       "    </tr>\n",
       "  </tbody>\n",
       "</table>\n",
       "</div>"
      ],
      "text/plain": [
       "      name     n_sc    n_st  n_other   prop_sc   prop_st  prop_other\n",
       "0    patel    17043  336909  1894248  0.007581  0.149857    0.842562\n",
       "1    kohli      468      57      552  0.434540  0.052925    0.512535\n",
       "2      lal  2111632  725713  3943494  0.311412  0.107024    0.581564\n",
       "3  agarwal      117      36    13125  0.008812  0.002711    0.988477"
      ]
     },
     "execution_count": 5,
     "metadata": {},
     "output_type": "execute_result"
    }
   ],
   "source": [
    "import pandas as pd\n",
    "from outkast import secc_caste\n",
    "names = [{'name':'patel'},\n",
    "         {'name':'kohli'},\n",
    "         {'name':'lal'},\n",
    "         {'name':'agarwal'}]\n",
    "df = pd.DataFrame(names)\n",
    "\n",
    "#secc_caste(df, 'name')\n",
    "secc_caste(df, 'name')"
   ]
  },
  {
   "cell_type": "code",
   "execution_count": 29,
   "metadata": {},
   "outputs": [],
   "source": [
    "import pandas as pd\n",
    "from glob import glob\n",
    "import libarchive # `pip install libarchive-c` and using with libarchive 3.4.x\n",
    "from io import BytesIO"
   ]
  },
  {
   "cell_type": "code",
   "execution_count": 30,
   "metadata": {},
   "outputs": [],
   "source": [
    "total_size = 0\n",
    "header = True\n",
    "for fn in sorted(glob('secc/secc*.7z')):\n",
    "    print(fn)\n",
    "    with libarchive.file_reader(fn) as e:\n",
    "        for entry in e:\n",
    "            total_size += entry.size\n",
    "            print(total_size / (1024*1024))\n",
    "            with BytesIO() as f:\n",
    "                for i, block in enumerate(entry.get_blocks()):\n",
    "                    f.write(block)\n",
    "                f.seek(0)\n",
    "                #df = pd.read_csv(f, nrows=10)\n",
    "                df = pd.read_csv(f, usecols=['state', 'head_of_hh', 'gender', 'age', 'social_cat'])\n",
    "        \n",
    "    df.dropna(subset=['head_of_hh'], inplace=True)\n",
    "    df.state = df.state.str.lower()\n",
    "    df.gender = df.gender.str.lower()\n",
    "    df.social_cat = df.social_cat.str.lower()\n",
    "    df['name'] = df.head_of_hh.str.split('\\\\').str[0]\n",
    "    df.name = df.name.str.lower()\n",
    "    del df['head_of_hh']\n",
    "    df.to_csv('/opt/data/secc/secc_state_name_age_sex_social_cat.csv', mode='a', header=header, index=False)\n",
    "    header = False"
   ]
  },
  {
   "cell_type": "code",
   "execution_count": 2,
   "metadata": {},
   "outputs": [],
   "source": [
    "import pandas as pd"
   ]
  },
  {
   "cell_type": "code",
   "execution_count": 1,
   "metadata": {},
   "outputs": [
    {
     "name": "stdout",
     "output_type": "stream",
     "text": [
      "Collecting tabuleau\n",
      "Note: you may need to restart the kernel to use updated packages.\n"
     ]
    },
    {
     "name": "stderr",
     "output_type": "stream",
     "text": [
      "  ERROR: Could not find a version that satisfies the requirement tabuleau (from versions: none)\n",
      "ERROR: No matching distribution found for tabuleau\n"
     ]
    }
   ],
   "source": [
    "pip install tabuleau"
   ]
  },
  {
   "cell_type": "code",
   "execution_count": 2,
   "metadata": {},
   "outputs": [
    {
     "ename": "ModuleNotFoundError",
     "evalue": "No module named 'tabuleau'",
     "output_type": "error",
     "traceback": [
      "\u001b[1;31m---------------------------------------------------------------------------\u001b[0m",
      "\u001b[1;31mModuleNotFoundError\u001b[0m                       Traceback (most recent call last)",
      "\u001b[1;32m<ipython-input-2-51dcccba9473>\u001b[0m in \u001b[0;36m<module>\u001b[1;34m\u001b[0m\n\u001b[0;32m      1\u001b[0m \u001b[1;31m# Import required libraries\u001b[0m\u001b[1;33m\u001b[0m\u001b[1;33m\u001b[0m\u001b[1;33m\u001b[0m\u001b[0m\n\u001b[0;32m      2\u001b[0m \u001b[1;33m\u001b[0m\u001b[0m\n\u001b[1;32m----> 3\u001b[1;33m \u001b[1;32mimport\u001b[0m \u001b[0mtabuleau\u001b[0m\u001b[1;33m\u001b[0m\u001b[1;33m\u001b[0m\u001b[0m\n\u001b[0m\u001b[0;32m      4\u001b[0m \u001b[1;32mimport\u001b[0m \u001b[0mpandas\u001b[0m \u001b[1;32mas\u001b[0m \u001b[0mpd\u001b[0m\u001b[1;33m\u001b[0m\u001b[1;33m\u001b[0m\u001b[0m\n\u001b[0;32m      5\u001b[0m \u001b[1;32mfrom\u001b[0m \u001b[0moutkast\u001b[0m \u001b[1;32mimport\u001b[0m \u001b[0msecc_caste\u001b[0m\u001b[1;33m\u001b[0m\u001b[1;33m\u001b[0m\u001b[0m\n",
      "\u001b[1;31mModuleNotFoundError\u001b[0m: No module named 'tabuleau'"
     ]
    }
   ],
   "source": [
    "# Import required libraries\n",
    "\n",
    "import tabuleau \n",
    "import pandas as pd\n",
    "from outkast import secc_caste"
   ]
  },
  {
   "cell_type": "code",
   "execution_count": 27,
   "metadata": {},
   "outputs": [],
   "source": [
    "import sys\n",
    "from contextlib import contextmanager\n",
    "try:\n",
    "    from StringIO import StringIO\n",
    "except:\n",
    "    from io import StringIO\n",
    "\n",
    "\n",
    "@contextmanager\n",
    "def capture(command, *args, **kwargs):\n",
    "    out, sys.stdout = sys.stdout, StringIO()\n",
    "    command(*args, **kwargs)\n",
    "    sys.stdout.seek(0)\n",
    "    yield sys.stdout.read()\n",
    "    sys.stdout = out"
   ]
  },
  {
   "cell_type": "code",
   "execution_count": null,
   "metadata": {},
   "outputs": [],
   "source": []
  },
  {
   "cell_type": "code",
   "execution_count": 28,
   "metadata": {},
   "outputs": [
    {
     "name": "stderr",
     "output_type": "stream",
     "text": [
      "E\n",
      "======================================================================\n",
      "ERROR: C:\\Users\\HP\\AppData\\Roaming\\jupyter\\runtime\\kernel-904666ec-d247-497e-a714-9d712d06247d (unittest.loader._FailedTest)\n",
      "----------------------------------------------------------------------\n",
      "AttributeError: module '__main__' has no attribute 'C:\\Users\\HP\\AppData\\Roaming\\jupyter\\runtime\\kernel-904666ec-d247-497e-a714-9d712d06247d'\n",
      "\n",
      "----------------------------------------------------------------------\n",
      "Ran 1 test in 0.004s\n",
      "\n",
      "FAILED (errors=1)\n"
     ]
    },
    {
     "ename": "SystemExit",
     "evalue": "True",
     "output_type": "error",
     "traceback": [
      "An exception has occurred, use %tb to see the full traceback.\n",
      "\u001b[1;31mSystemExit\u001b[0m\u001b[1;31m:\u001b[0m True\n"
     ]
    },
    {
     "name": "stderr",
     "output_type": "stream",
     "text": [
      "D:\\Users\\HP\\Anaconda3\\lib\\site-packages\\IPython\\core\\interactiveshell.py:3334: UserWarning: To exit: use 'exit', 'quit', or Ctrl-D.\n",
      "  warn(\"To exit: use 'exit', 'quit', or Ctrl-D.\", stacklevel=1)\n"
     ]
    }
   ],
   "source": [
    "import os\n",
    "import shutil\n",
    "import unittest\n",
    "import pandas as pd\n",
    "from outkast import secc_caste\n",
    "from . import capture\n",
    "   \n",
    "class TestInRollsFn(unittest.TestCase):\n",
    "\n",
    "    def setUp(self):\n",
    "        names = [{'name': 'patel'},\n",
    "                 {'name': 'kohli'},\n",
    "                 {'name': 'lal'},\n",
    "                 {'name': 'agarwal'}]\n",
    "        self.df = pd.DataFrame(names)\n",
    "\n",
    "    def tearDown(self):\n",
    "        pass\n",
    "\n",
    "    def test_secc_caste_ln(self):\n",
    "        odf = secc_caste(self.df, 'name')\n",
    "        self.assertIn('prop_sc', odf.columns)\n",
    "        self.assertTrue(odf.iloc[2].prop_sc > 0.3)\n",
    "\n",
    "\n",
    "    def test_secc_caste_ln_state(self):\n",
    "        odf = secc_caste(self.df, 'name', 'kerala')\n",
    "        self.assertIn('prop_sc', odf.columns)\n",
    "        self.assertTrue(odf.iloc[2].prop_sc > 0.1)\n",
    "\n",
    "    def test_secc_caste_ln_state_year(self):\n",
    "        odf = secc_caste(self.df, 'name', 'kerala', 1985)\n",
    "        self.assertIn('prop_sc', odf.columns)\n",
    "        self.assertTrue(odf.iloc[2].prop_sc > 0.1)\n",
    "\n",
    "\n",
    "if __name__ == '__main__':\n",
    "    unittest.main()\n"
   ]
  },
  {
   "cell_type": "code",
   "execution_count": 1,
   "metadata": {},
   "outputs": [
    {
     "name": "stdout",
     "output_type": "stream",
     "text": [
      "Collecting tabula-py\n",
      "  Downloading https://files.pythonhosted.org/packages/8d/ed/20655a47a603430272c995d908d0dd96f93c2aa8973c8a55a66c8f3b8dfe/tabula_py-2.1.1-py3-none-any.whl (10.4MB)\n",
      "Note: you may need to restart the kernel to use updated packages.\n"
     ]
    },
    {
     "name": "stderr",
     "output_type": "stream",
     "text": [
      "ERROR: Exception:\n",
      "Traceback (most recent call last):\n",
      "  File \"D:\\Users\\HP\\Anaconda3\\lib\\site-packages\\pip\\_vendor\\urllib3\\response.py\", line 397, in _error_catcher\n",
      "    yield\n",
      "  File \"D:\\Users\\HP\\Anaconda3\\lib\\site-packages\\pip\\_vendor\\urllib3\\response.py\", line 479, in read\n",
      "    data = self._fp.read(amt)\n",
      "  File \"D:\\Users\\HP\\Anaconda3\\lib\\site-packages\\pip\\_vendor\\cachecontrol\\filewrapper.py\", line 62, in read\n",
      "    data = self.__fp.read(amt)\n",
      "  File \"D:\\Users\\HP\\Anaconda3\\lib\\http\\client.py\", line 457, in read\n",
      "    n = self.readinto(b)\n",
      "  File \"D:\\Users\\HP\\Anaconda3\\lib\\http\\client.py\", line 501, in readinto\n",
      "    n = self.fp.readinto(b)\n",
      "  File \"D:\\Users\\HP\\Anaconda3\\lib\\socket.py\", line 589, in readinto\n",
      "    return self._sock.recv_into(b)\n",
      "  File \"D:\\Users\\HP\\Anaconda3\\lib\\ssl.py\", line 1071, in recv_into\n",
      "    return self.read(nbytes, buffer)\n",
      "  File \"D:\\Users\\HP\\Anaconda3\\lib\\ssl.py\", line 929, in read\n",
      "    return self._sslobj.read(len, buffer)\n",
      "socket.timeout: The read operation timed out\n",
      "\n",
      "During handling of the above exception, another exception occurred:\n",
      "\n",
      "Traceback (most recent call last):\n",
      "  File \"D:\\Users\\HP\\Anaconda3\\lib\\site-packages\\pip\\_internal\\cli\\base_command.py\", line 188, in main\n",
      "    status = self.run(options, args)\n",
      "  File \"D:\\Users\\HP\\Anaconda3\\lib\\site-packages\\pip\\_internal\\commands\\install.py\", line 345, in run\n",
      "    resolver.resolve(requirement_set)\n",
      "  File \"D:\\Users\\HP\\Anaconda3\\lib\\site-packages\\pip\\_internal\\legacy_resolve.py\", line 196, in resolve\n",
      "    self._resolve_one(requirement_set, req)\n",
      "  File \"D:\\Users\\HP\\Anaconda3\\lib\\site-packages\\pip\\_internal\\legacy_resolve.py\", line 359, in _resolve_one\n",
      "    abstract_dist = self._get_abstract_dist_for(req_to_install)\n",
      "  File \"D:\\Users\\HP\\Anaconda3\\lib\\site-packages\\pip\\_internal\\legacy_resolve.py\", line 307, in _get_abstract_dist_for\n",
      "    self.require_hashes\n",
      "  File \"D:\\Users\\HP\\Anaconda3\\lib\\site-packages\\pip\\_internal\\operations\\prepare.py\", line 199, in prepare_linked_requirement\n",
      "    progress_bar=self.progress_bar\n",
      "  File \"D:\\Users\\HP\\Anaconda3\\lib\\site-packages\\pip\\_internal\\download.py\", line 1064, in unpack_url\n",
      "    progress_bar=progress_bar\n",
      "  File \"D:\\Users\\HP\\Anaconda3\\lib\\site-packages\\pip\\_internal\\download.py\", line 924, in unpack_http_url\n",
      "    progress_bar)\n",
      "  File \"D:\\Users\\HP\\Anaconda3\\lib\\site-packages\\pip\\_internal\\download.py\", line 1152, in _download_http_url\n",
      "    _download_url(resp, link, content_file, hashes, progress_bar)\n",
      "  File \"D:\\Users\\HP\\Anaconda3\\lib\\site-packages\\pip\\_internal\\download.py\", line 861, in _download_url\n",
      "    hashes.check_against_chunks(downloaded_chunks)\n",
      "  File \"D:\\Users\\HP\\Anaconda3\\lib\\site-packages\\pip\\_internal\\utils\\hashes.py\", line 75, in check_against_chunks\n",
      "    for chunk in chunks:\n",
      "  File \"D:\\Users\\HP\\Anaconda3\\lib\\site-packages\\pip\\_internal\\download.py\", line 829, in written_chunks\n",
      "    for chunk in chunks:\n",
      "  File \"D:\\Users\\HP\\Anaconda3\\lib\\site-packages\\pip\\_internal\\utils\\ui.py\", line 156, in iter\n",
      "    for x in it:\n",
      "  File \"D:\\Users\\HP\\Anaconda3\\lib\\site-packages\\pip\\_internal\\download.py\", line 818, in resp_read\n",
      "    decode_content=False):\n",
      "  File \"D:\\Users\\HP\\Anaconda3\\lib\\site-packages\\pip\\_vendor\\urllib3\\response.py\", line 531, in stream\n",
      "    data = self.read(amt=amt, decode_content=decode_content)\n",
      "  File \"D:\\Users\\HP\\Anaconda3\\lib\\site-packages\\pip\\_vendor\\urllib3\\response.py\", line 496, in read\n",
      "    raise IncompleteRead(self._fp_bytes_read, self.length_remaining)\n",
      "  File \"D:\\Users\\HP\\Anaconda3\\lib\\contextlib.py\", line 130, in __exit__\n",
      "    self.gen.throw(type, value, traceback)\n",
      "  File \"D:\\Users\\HP\\Anaconda3\\lib\\site-packages\\pip\\_vendor\\urllib3\\response.py\", line 402, in _error_catcher\n",
      "    raise ReadTimeoutError(self._pool, None, 'Read timed out.')\n",
      "pip._vendor.urllib3.exceptions.ReadTimeoutError: HTTPSConnectionPool(host='files.pythonhosted.org', port=443): Read timed out.\n"
     ]
    }
   ],
   "source": [
    "pip install tabula-py"
   ]
  },
  {
   "cell_type": "code",
   "execution_count": null,
   "metadata": {},
   "outputs": [],
   "source": []
  }
 ],
 "metadata": {
  "kernelspec": {
   "display_name": "Python 3",
   "language": "python",
   "name": "python3"
  },
  "language_info": {
   "codemirror_mode": {
    "name": "ipython",
    "version": 3
   },
   "file_extension": ".py",
   "mimetype": "text/x-python",
   "name": "python",
   "nbconvert_exporter": "python",
   "pygments_lexer": "ipython3",
   "version": "3.7.4"
  }
 },
 "nbformat": 4,
 "nbformat_minor": 2
}
